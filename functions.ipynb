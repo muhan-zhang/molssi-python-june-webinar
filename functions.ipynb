{
 "cells": [
  {
   "cell_type": "markdown",
   "metadata": {},
   "source": [
    "# Writting functions"
   ]
  },
  {
   "cell_type": "code",
   "execution_count": 1,
   "metadata": {},
   "outputs": [],
   "source": [
    "#def function_name(parameters):\n",
    "#    ** body of your code **\n",
    "#    return value_to_return"
   ]
  },
  {
   "cell_type": "code",
   "execution_count": 2,
   "metadata": {},
   "outputs": [],
   "source": [
    "import numpy\n",
    "import os\n",
    "\n",
    "file_location = os.path.join('data','water.xyz')\n",
    "xyz_file = numpy.genfromtxt(fname=file_location,skip_header=2,dtype='unicode')"
   ]
  },
  {
   "cell_type": "code",
   "execution_count": 3,
   "metadata": {},
   "outputs": [],
   "source": [
    "symbols = xyz_file[:,0]\n",
    "coordinates = xyz_file[:,1:]\n",
    "coordinates = coordinates.astype(numpy.float)"
   ]
  },
  {
   "cell_type": "code",
   "execution_count": 4,
   "metadata": {},
   "outputs": [],
   "source": [
    "def calculate_distance(coords1,coords2):\n",
    "    x_distance = coords1[0]-coords2[0]\n",
    "    y_distance = coords1[1]-coords2[1]\n",
    "    z_distance = coords1[2]-coords2[2]\n",
    "    distance_12 = numpy.sqrt(x_distance**2 + y_distance**2 + z_distance**2)\n",
    "    return distance_12"
   ]
  },
  {
   "cell_type": "code",
   "execution_count": 6,
   "metadata": {},
   "outputs": [
    {
     "data": {
      "text/plain": [
       "1.7320508075688772"
      ]
     },
     "execution_count": 6,
     "metadata": {},
     "output_type": "execute_result"
    }
   ],
   "source": [
    "# How to write codes using this function\n",
    "vector1 = [0,0,0]\n",
    "vector2 = [1,1,1]\n",
    "calculate_distance(vector1,vector2)"
   ]
  },
  {
   "cell_type": "code",
   "execution_count": 8,
   "metadata": {},
   "outputs": [
    {
     "name": "stdout",
     "output_type": "stream",
     "text": [
      "O to H1 : 0.969\n",
      "O to H2 : 0.969\n"
     ]
    }
   ],
   "source": [
    "num_atoms = len(symbols)\n",
    "for num1 in range(num_atoms):\n",
    "    for num2 in range(num1+1,num_atoms):\n",
    "        distance = calculate_distance(coordinates[num1],coordinates[num2])\n",
    "        # Using the calculate_distance() function\n",
    "        if distance > 0 and distance <= 1.5:\n",
    "            # Check if this is a bond or not\n",
    "            print(F'{symbols[num1]} to {symbols[num2]} : {distance:.3f}')"
   ]
  },
  {
   "cell_type": "code",
   "execution_count": 17,
   "metadata": {},
   "outputs": [],
   "source": [
    "def bond_check(atom_distance,min_length=0,max_length=1.5):\n",
    "    if atom_distance > min_length and atom_distance <= max_length:\n",
    "        return True\n",
    "    else:\n",
    "        return False"
   ]
  },
  {
   "cell_type": "code",
   "execution_count": 14,
   "metadata": {},
   "outputs": [
    {
     "data": {
      "text/plain": [
       "True"
      ]
     },
     "execution_count": 14,
     "metadata": {},
     "output_type": "execute_result"
    }
   ],
   "source": [
    "bond_check(1.2,0.2,1.5)"
   ]
  },
  {
   "cell_type": "code",
   "execution_count": 15,
   "metadata": {},
   "outputs": [
    {
     "data": {
      "text/plain": [
       "False"
      ]
     },
     "execution_count": 15,
     "metadata": {},
     "output_type": "execute_result"
    }
   ],
   "source": [
    "bond_check(-10,0,3)"
   ]
  },
  {
   "cell_type": "code",
   "execution_count": 19,
   "metadata": {},
   "outputs": [
    {
     "data": {
      "text/plain": [
       "True"
      ]
     },
     "execution_count": 19,
     "metadata": {},
     "output_type": "execute_result"
    }
   ],
   "source": [
    "bond_check(1.3,1)"
   ]
  },
  {
   "cell_type": "code",
   "execution_count": 20,
   "metadata": {},
   "outputs": [
    {
     "data": {
      "text/plain": [
       "True"
      ]
     },
     "execution_count": 20,
     "metadata": {},
     "output_type": "execute_result"
    }
   ],
   "source": [
    "bond_check(1.7,max_length=2.0)"
   ]
  },
  {
   "cell_type": "code",
   "execution_count": 22,
   "metadata": {},
   "outputs": [
    {
     "data": {
      "text/plain": [
       "True"
      ]
     },
     "execution_count": 22,
     "metadata": {},
     "output_type": "execute_result"
    }
   ],
   "source": [
    "bond_check(1.7,0,2)"
   ]
  },
  {
   "cell_type": "code",
   "execution_count": 23,
   "metadata": {},
   "outputs": [
    {
     "name": "stdout",
     "output_type": "stream",
     "text": [
      "Help on function bond_check in module __main__:\n",
      "\n",
      "bond_check(atom_distance, min_length=0, max_length=1.5)\n",
      "\n"
     ]
    }
   ],
   "source": [
    "# How are they supposed to know the rules of new functions?\n",
    "help(bond_check)"
   ]
  },
  {
   "cell_type": "code",
   "execution_count": 26,
   "metadata": {},
   "outputs": [],
   "source": [
    "def bond_check(atom_distance,min_length=0,max_length=1.5):\n",
    "    \"\"\"\n",
    "    Check if a distance is a bond based on a minimum and maximum length.\n",
    "    Inputs: distance, min_length, max_length\n",
    "    Defaults: min_length=0, max_length=1.5\n",
    "    Return: True or False\n",
    "    \"\"\"\n",
    "    if atom_distance > min_length and atom_distance <= max_length:\n",
    "        return True\n",
    "    else:\n",
    "        return False"
   ]
  },
  {
   "cell_type": "code",
   "execution_count": 25,
   "metadata": {},
   "outputs": [
    {
     "name": "stdout",
     "output_type": "stream",
     "text": [
      "Help on function bond_check in module __main__:\n",
      "\n",
      "bond_check(atom_distance, min_length=0, max_length=1.5)\n",
      "    Check if a distance is a bond based on a minimum and maximum length.\n",
      "    Inputs: distance, min_length, max_length\n",
      "    Return: True or False\n",
      "\n"
     ]
    }
   ],
   "source": [
    "help(bond_check)"
   ]
  },
  {
   "cell_type": "code",
   "execution_count": 27,
   "metadata": {},
   "outputs": [
    {
     "name": "stdout",
     "output_type": "stream",
     "text": [
      "O to H1 : 0.969\n",
      "O to H2 : 0.969\n"
     ]
    }
   ],
   "source": [
    "num_atoms = len(symbols)\n",
    "for num1 in range(num_atoms):\n",
    "    for num2 in range(num1+1,num_atoms):\n",
    "        distance = calculate_distance(coordinates[num1],coordinates[num2])\n",
    "        # Using the calculate_distance() function\n",
    "        if bond_check(distance) is True:\n",
    "            # Check if this is a bond or not\n",
    "            print(F'{symbols[num1]} to {symbols[num2]} : {distance:.3f}')"
   ]
  },
  {
   "cell_type": "code",
   "execution_count": 28,
   "metadata": {},
   "outputs": [
    {
     "name": "stdout",
     "output_type": "stream",
     "text": [
      "O to H1 : 0.969\n",
      "O to H2 : 0.969\n"
     ]
    }
   ],
   "source": [
    "# Complete codes\n",
    "import numpy\n",
    "import os\n",
    "\n",
    "def calculate_distance(coords1,coords2):\n",
    "    x_distance = coords1[0]-coords2[0]\n",
    "    y_distance = coords1[1]-coords2[1]\n",
    "    z_distance = coords1[2]-coords2[2]\n",
    "    distance_12 = numpy.sqrt(x_distance**2 + y_distance**2 + z_distance**2)\n",
    "    return distance_12\n",
    "\n",
    "def bond_check(atom_distance,min_length=0,max_length=1.5):\n",
    "    \"\"\"\n",
    "    Check if a distance is a bond based on a minimum and maximum length.\n",
    "    Inputs: distance, min_length, max_length\n",
    "    Defaults: min_length=0, max_length=1.5\n",
    "    Return: True or False\n",
    "    \"\"\"\n",
    "    if atom_distance > min_length and atom_distance <= max_length:\n",
    "        return True\n",
    "    else:\n",
    "        return False\n",
    "    \n",
    "file_location = os.path.join('data','water.xyz')\n",
    "xyz_file = numpy.genfromtxt(fname=file_location,skip_header=2,dtype='unicode')\n",
    "symbols = xyz_file[:,0]\n",
    "coordinates = xyz_file[:,1:]\n",
    "coordinates = coordinates.astype(numpy.float)\n",
    "num_atoms = len(symbols)\n",
    "for num1 in range(num_atoms):\n",
    "    for num2 in range(num1+1,num_atoms):\n",
    "        distance = calculate_distance(coordinates[num1],coordinates[num2])\n",
    "        # Using the calculate_distance() function\n",
    "        if bond_check(distance) is True:\n",
    "            # Check if this is a bond or not\n",
    "            print(F'{symbols[num1]} to {symbols[num2]} : {distance:.3f}')"
   ]
  },
  {
   "cell_type": "code",
   "execution_count": null,
   "metadata": {},
   "outputs": [],
   "source": []
  }
 ],
 "metadata": {
  "kernelspec": {
   "display_name": "Python 3",
   "language": "python",
   "name": "python3"
  },
  "language_info": {
   "codemirror_mode": {
    "name": "ipython",
    "version": 3
   },
   "file_extension": ".py",
   "mimetype": "text/x-python",
   "name": "python",
   "nbconvert_exporter": "python",
   "pygments_lexer": "ipython3",
   "version": "3.7.3"
  }
 },
 "nbformat": 4,
 "nbformat_minor": 2
}
