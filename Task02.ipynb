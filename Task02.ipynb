{
 "cells": [
  {
   "cell_type": "code",
   "execution_count": 1,
   "metadata": {},
   "outputs": [
    {
     "name": "stdout",
     "output_type": "stream",
     "text": [
      "O to O : 0.0000\n",
      "O to H1 : 0.9690\n",
      "O to H2 : 0.9690\n",
      "H1 to O : 0.9690\n",
      "H1 to H1 : 0.0000\n",
      "H1 to H2 : 1.5269\n",
      "H2 to O : 0.9690\n",
      "H2 to H1 : 1.5269\n",
      "H2 to H2 : 0.0000\n"
     ]
    }
   ],
   "source": [
    "import numpy,os\n",
    "water_file = os.path.join('data','water.xyz')\n",
    "water = numpy.genfromtxt(water_file,skip_header=2,dtype='unicode')\n",
    "for i in water:\n",
    "    for j in water:\n",
    "        dist = numpy.sqrt((float(i[1]) - float(j[1]))**2 + (float(i[2]) - float(j[2]))**2 + (float(i[3]) - float(j[3]))**2)\n",
    "        print(F'{i[0]} to {j[0]} : {dist:.4f}')"
   ]
  },
  {
   "cell_type": "code",
   "execution_count": null,
   "metadata": {},
   "outputs": [],
   "source": []
  },
  {
   "cell_type": "code",
   "execution_count": null,
   "metadata": {},
   "outputs": [],
   "source": []
  }
 ],
 "metadata": {
  "kernelspec": {
   "display_name": "Python 3",
   "language": "python",
   "name": "python3"
  },
  "language_info": {
   "codemirror_mode": {
    "name": "ipython",
    "version": 3
   },
   "file_extension": ".py",
   "mimetype": "text/x-python",
   "name": "python",
   "nbconvert_exporter": "python",
   "pygments_lexer": "ipython3",
   "version": "3.7.3"
  }
 },
 "nbformat": 4,
 "nbformat_minor": 2
}
