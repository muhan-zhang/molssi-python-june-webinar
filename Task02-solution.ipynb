{
 "cells": [
  {
   "cell_type": "markdown",
   "metadata": {},
   "source": [
    "## Geometry Analysis Homework Solution"
   ]
  },
  {
   "cell_type": "code",
   "execution_count": 1,
   "metadata": {},
   "outputs": [],
   "source": [
    "import numpy\n",
    "import os"
   ]
  },
  {
   "cell_type": "code",
   "execution_count": 2,
   "metadata": {},
   "outputs": [],
   "source": [
    "file_location = os.path.join('data','water.xyz')\n",
    "xyz_file = numpy.genfromtxt(fname=file_location,dtype='unicode',skip_header=2)"
   ]
  },
  {
   "cell_type": "code",
   "execution_count": 3,
   "metadata": {},
   "outputs": [
    {
     "data": {
      "text/plain": [
       "(array(['O', 'H1', 'H2'], dtype='<U9'),\n",
       " array([[ 0.      , -0.007156,  0.965491],\n",
       "        [-0.      ,  0.001486, -0.003471],\n",
       "        [ 0.      ,  0.931026,  1.207929]]))"
      ]
     },
     "execution_count": 3,
     "metadata": {},
     "output_type": "execute_result"
    }
   ],
   "source": [
    "symbols = xyz_file[:,0]\n",
    "coordinates = xyz_file[:,1:]\n",
    "coordinates = coordinates.astype(numpy.float)\n",
    "symbols, coordinates"
   ]
  },
  {
   "cell_type": "markdown",
   "metadata": {},
   "source": [
    "$$ distance = \\sqrt{(x_{1}-x_{2})^2+(y_{1}-y_{2})^2+(z_{1}-z_{2})^2}$$"
   ]
  },
  {
   "cell_type": "code",
   "execution_count": 7,
   "metadata": {},
   "outputs": [
    {
     "name": "stdout",
     "output_type": "stream",
     "text": [
      "O to O : 0.0000\n",
      "O to H1 : 0.9690\n",
      "O to H2 : 0.9690\n",
      "H1 to O : 0.9690\n",
      "H1 to H1 : 0.0000\n",
      "H1 to H2 : 1.5269\n",
      "H2 to O : 0.9690\n",
      "H2 to H1 : 1.5269\n",
      "H2 to H2 : 0.0000\n"
     ]
    }
   ],
   "source": [
    "# 2 for loops\n",
    "num_atoms = len(symbols)\n",
    "for num1 in range(num_atoms):\n",
    "    for num2 in range(num_atoms):\n",
    "        x_distance = coordinates[num1,0]-coordinates[num2,0]\n",
    "        y_distance = coordinates[num1,1]-coordinates[num2,1]\n",
    "        z_distance = coordinates[num1,2]-coordinates[num2,2]\n",
    "        distance_12 = numpy.sqrt(x_distance**2+y_distance**2+z_distance**2)\n",
    "        print(F'{symbols[num1]} to {symbols[num2]} : {distance_12:.4f}')"
   ]
  },
  {
   "cell_type": "code",
   "execution_count": 11,
   "metadata": {},
   "outputs": [
    {
     "name": "stdout",
     "output_type": "stream",
     "text": [
      "O to H1 : 0.9690\n",
      "O to H2 : 0.9690\n",
      "H1 to H2 : 1.5269\n"
     ]
    }
   ],
   "source": [
    "# Truncate redundant terms!!!\n",
    "num_atoms = len(symbols)\n",
    "for num1 in range(num_atoms):\n",
    "    for num2 in range(num1+1,num_atoms):\n",
    "        x_distance = coordinates[num1,0]-coordinates[num2,0]\n",
    "        y_distance = coordinates[num1,1]-coordinates[num2,1]\n",
    "        z_distance = coordinates[num1,2]-coordinates[num2,2]\n",
    "        distance_12 = numpy.sqrt(x_distance**2+y_distance**2+z_distance**2)\n",
    "        print(F'{symbols[num1]} to {symbols[num2]} : {distance_12:.4f}')"
   ]
  },
  {
   "cell_type": "code",
   "execution_count": 9,
   "metadata": {},
   "outputs": [
    {
     "name": "stdout",
     "output_type": "stream",
     "text": [
      "O to H1 : 0.9690\n",
      "O to H2 : 0.9690\n",
      "H1 to H2 : 1.5269\n"
     ]
    }
   ],
   "source": [
    "# Truncate redundant terms in another way!!!\n",
    "num_atoms = len(symbols)\n",
    "for num1 in range(num_atoms):\n",
    "    for num2 in range(0,num_atoms):\n",
    "        if num1 < num2:\n",
    "            x_distance = coordinates[num1,0]-coordinates[num2,0]\n",
    "            y_distance = coordinates[num1,1]-coordinates[num2,1]\n",
    "            z_distance = coordinates[num1,2]-coordinates[num2,2]\n",
    "            distance_12 = numpy.sqrt(x_distance**2+y_distance**2+z_distance**2)\n",
    "            print(F'{symbols[num1]} to {symbols[num2]} : {distance_12:.4f}')"
   ]
  },
  {
   "cell_type": "code",
   "execution_count": 14,
   "metadata": {},
   "outputs": [
    {
     "name": "stdout",
     "output_type": "stream",
     "text": [
      "O to H1 : 0.969\n",
      "O to H2 : 0.969\n"
     ]
    }
   ],
   "source": [
    "# How to just print all distance_12 less than 1.5 angstroms?\n",
    "num_atoms = len(symbols)\n",
    "for num1 in range(num_atoms):\n",
    "    for num2 in range(0,num_atoms):\n",
    "        if num1 < num2:\n",
    "            x_distance = coordinates[num1,0]-coordinates[num2,0]\n",
    "            y_distance = coordinates[num1,1]-coordinates[num2,1]\n",
    "            z_distance = coordinates[num1,2]-coordinates[num2,2]\n",
    "            distance_12 = numpy.sqrt(x_distance**2+y_distance**2+z_distance**2)\n",
    "            if distance_12 >0 and distance_12 <= 1.5:\n",
    "                print(F'{symbols[num1]} to {symbols[num2]} : {distance_12:.3f}')"
   ]
  },
  {
   "cell_type": "code",
   "execution_count": null,
   "metadata": {},
   "outputs": [],
   "source": []
  }
 ],
 "metadata": {
  "kernelspec": {
   "display_name": "Python 3",
   "language": "python",
   "name": "python3"
  },
  "language_info": {
   "codemirror_mode": {
    "name": "ipython",
    "version": 3
   },
   "file_extension": ".py",
   "mimetype": "text/x-python",
   "name": "python",
   "nbconvert_exporter": "python",
   "pygments_lexer": "ipython3",
   "version": "3.7.3"
  }
 },
 "nbformat": 4,
 "nbformat_minor": 2
}
